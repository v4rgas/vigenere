{
 "cells": [
  {
   "cell_type": "markdown",
   "metadata": {},
   "source": [
    "Estadísticas del rompimiento de Vigenere"
   ]
  },
  {
   "cell_type": "code",
   "execution_count": 3,
   "metadata": {},
   "outputs": [],
   "source": [
    "import matplotlib"
   ]
  },
  {
   "cell_type": "code",
   "execution_count": 2,
   "metadata": {},
   "outputs": [],
   "source": [
    "from random import shuffle\r\n",
    "def read_text():\r\n",
    "    with open('moby.txt') as f:\r\n",
    "        text = f.read()\r\n",
    "        text = text.split()\r\n",
    "    return text"
   ]
  },
  {
   "cell_type": "code",
   "execution_count": null,
   "metadata": {},
   "outputs": [],
   "source": [
    "from string import ascii_uppercase\r\n",
    "from random import choice\r\n",
    "import sys\r\n",
    "sys.path.append(\"..\")\r\n",
    "\r\n",
    "from utils.find_key import find_key\r\n",
    "from utils.find_length import find_length\r\n",
    "from utils.vigenere import decode, encode, most_probable_length\r\n",
    "from main import letras_iguales\r\n",
    "from csv import writer\r\n",
    "from functools import lru_cache\r\n",
    "import os\r\n",
    "\r\n",
    "texto = read_text()\r\n",
    "@lru_cache(maxsize=None)\r\n",
    "def func():\r\n",
    "    with open('stats3.csv', 'w', newline='') as f:\r\n",
    "        fwriter = writer(f)\r\n",
    "        for key_length in range(5,100, 5):\r\n",
    "            for cant_palabra in range(100, 5000, 100):\r\n",
    "                chunk_text = ''.join(texto[:cant_palabra])\r\n",
    "                clave = ''.join(choice(ascii_uppercase) for _ in range(key_length))\r\n",
    "                \r\n",
    "                _, all_caps_text = encode(chunk_text, clave)\r\n",
    "\r\n",
    "                largo = most_probable_length(find_length(all_caps_text))\r\n",
    "                \r\n",
    "                clave_teorica = find_key(all_caps_text, largo_clave=largo, lang='ENG')\r\n",
    "                \r\n",
    "                semejanza_claves = letras_iguales(clave, clave_teorica)\r\n",
    "                \r\n",
    "                fwriter.writerow((key_length, cant_palabra, semejanza_claves))\r\n",
    "func()\r\n",
    "        "
   ]
  },
  {
   "cell_type": "code",
   "execution_count": null,
   "metadata": {},
   "outputs": [],
   "source": [
    "from plotly.express import scatter_3d\r\n",
    "import pandas as pd\r\n",
    "\r\n",
    "df = pd.read_csv('stats2.csv')\r\n",
    "df"
   ]
  },
  {
   "cell_type": "code",
   "execution_count": null,
   "metadata": {},
   "outputs": [],
   "source": []
  }
 ],
 "metadata": {
  "kernelspec": {
   "display_name": "Python 3.7.9 64-bit",
   "name": "python379jvsc74a57bd0a3334a78060f906efb30753b21a137354a590a32b6998c12cfe16e21065aab06"
  },
  "language_info": {
   "codemirror_mode": {
    "name": "ipython",
    "version": 3
   },
   "file_extension": ".py",
   "mimetype": "text/x-python",
   "name": "python",
   "nbconvert_exporter": "python",
   "pygments_lexer": "ipython3",
   "version": "3.7.9"
  },
  "metadata": {
   "interpreter": {
    "hash": "a3334a78060f906efb30753b21a137354a590a32b6998c12cfe16e21065aab06"
   }
  },
  "orig_nbformat": 2
 },
 "nbformat": 4,
 "nbformat_minor": 2
}